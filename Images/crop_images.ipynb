{
 "cells": [
  {
   "cell_type": "code",
   "execution_count": 25,
   "id": "3c3b6746-478c-4a9a-83d3-d2eb74becb1e",
   "metadata": {},
   "outputs": [
    {
     "data": {
      "text/html": [
       "\n",
       "<style>\n",
       ".output {\n",
       "    display: flex;\n",
       "    align-items: center;\n",
       "    text-align: center;\n",
       "}\n",
       "</style>\n"
      ],
      "text/plain": [
       "<IPython.core.display.HTML object>"
      ]
     },
     "metadata": {},
     "output_type": "display_data"
    }
   ],
   "source": [
    "%matplotlib inline  \n",
    "%config InlineBackend.figure_format = 'retina'\n",
    "\n",
    "# system ----\n",
    "import os\n",
    "import sys\n",
    "import numpy as np\n",
    "import tensorflow as tf\n",
    "\n",
    "from IPython.display import display, HTML\n",
    "display(HTML(\"\"\"\n",
    "<style>\n",
    ".output {\n",
    "    display: flex;\n",
    "    align-items: center;\n",
    "    text-align: center;\n",
    "}\n",
    "</style>\n",
    "\"\"\"))"
   ]
  },
  {
   "cell_type": "code",
   "execution_count": 23,
   "id": "9dd145fc-4405-42b3-b9d3-d57827c94928",
   "metadata": {},
   "outputs": [
    {
     "name": "stdout",
     "output_type": "stream",
     "text": [
      "Found 857 files belonging to 1 classes.\n",
      "Using 686 files for training.\n"
     ]
    }
   ],
   "source": [
    "# load dataset via keras\n",
    "#imagePath = \"/Volumes/ALEXANDRES_/DND-GANS/data\"\n",
    "#train_ds = tf.keras.preprocessing.image_dataset_from_directory(imagePath, validation_split=0.2, subset=\"training\", seed=123, image_size=(28, 28), batch_size=1)"
   ]
  },
  {
   "cell_type": "code",
   "execution_count": 89,
   "id": "7b6a37b1-4ece-4d63-957c-3f5248c47ed2",
   "metadata": {},
   "outputs": [],
   "source": [
    "from PIL import Image\n",
    "\n",
    "imagePath = \"/Volumes/ALEXANDRES_/DND-GANS/data/original/Elf\"\n",
    "dirs = os.listdir(imagePath)\n",
    "\n",
    "def resize():\n",
    "    n_images = len(dirs)\n",
    "    for ind, item in enumerate(dirs):\n",
    "        fileName = f\"{imagePath}/{item}\"\n",
    "        if os.path.isfile(fileName):\n",
    "            fileString, extension = os.path.splitext(item)\n",
    "            # each image in directory is passed through PIL image module and resized to \n",
    "            # specificed (N, N) pixels\n",
    "            image = Image.open(fileName)\n",
    "            image_resize = image.resize((144, 144), Image.ANTIALIAS)\n",
    "            imageResizePath = \"/Volumes/ALEXANDRES_/DND-GANS/data/post-processed/Elf\"\n",
    "            try:\n",
    "                # If image has standard RGB channel, simple conversion to JPEG\n",
    "                image_resize.save(f\"{imageResizePath}/{fileString}{extension}\", 'JPEG',  subsampling=0, quality=90)\n",
    "            except OSError:\n",
    "                # if image has additional alpha channel, remove that\n",
    "                if image_resize.mode in ('RGBA', 'LA') or (image_resize.mode == 'P' and 'transparency' in image_resize.info):\n",
    "                    alpha = image_resize.convert('RGBA').split()[-1]\n",
    "                    background = Image.new(\"RGB\", image_resize.size, (255, 255, 255))\n",
    "                    background.paste(image_resize, mask=alpha) # 3 is the alpha channel\n",
    "                    background.save(f\"{imageResizePath}/{fileString}{extension}\", 'JPEG',  subsampling=0, quality=90)\n",
    "                \n",
    "        if((ind+1) % 50 == 0):\n",
    "            print(f\"{ind+1}/{n_images} images converted\")"
   ]
  },
  {
   "cell_type": "code",
   "execution_count": 90,
   "id": "d310a9a6-4252-4fb4-8484-9cfad82b94cf",
   "metadata": {},
   "outputs": [
    {
     "name": "stdout",
     "output_type": "stream",
     "text": [
      "50/857 images converted\n",
      "100/857 images converted\n",
      "150/857 images converted\n",
      "200/857 images converted\n",
      "250/857 images converted\n",
      "300/857 images converted\n",
      "350/857 images converted\n",
      "400/857 images converted\n",
      "450/857 images converted\n",
      "500/857 images converted\n",
      "550/857 images converted\n",
      "600/857 images converted\n",
      "650/857 images converted\n",
      "700/857 images converted\n",
      "750/857 images converted\n",
      "800/857 images converted\n",
      "850/857 images converted\n"
     ]
    }
   ],
   "source": [
    "resize()"
   ]
  },
  {
   "cell_type": "code",
   "execution_count": null,
   "id": "b7f053bc-916a-4f72-b050-e739ba181b62",
   "metadata": {},
   "outputs": [],
   "source": []
  }
 ],
 "metadata": {
  "kernelspec": {
   "display_name": "Python 3 (ipykernel)",
   "language": "python",
   "name": "python3"
  },
  "language_info": {
   "codemirror_mode": {
    "name": "ipython",
    "version": 3
   },
   "file_extension": ".py",
   "mimetype": "text/x-python",
   "name": "python",
   "nbconvert_exporter": "python",
   "pygments_lexer": "ipython3",
   "version": "3.9.6"
  }
 },
 "nbformat": 4,
 "nbformat_minor": 5
}
